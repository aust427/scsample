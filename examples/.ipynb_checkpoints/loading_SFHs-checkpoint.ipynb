{
 "cells": [
  {
   "cell_type": "code",
   "execution_count": null,
   "id": "e90ac70a-ddaa-47f2-8f16-a25b903701f3",
   "metadata": {
    "tags": []
   },
   "outputs": [],
   "source": [
    "%matplotlib inline\n",
    "import matplotlib.pyplot as plt\n",
    "\n",
    "import site\n",
    "import numpy as np\n",
    "import pandas as pd"
   ]
  },
  {
   "cell_type": "markdown",
   "id": "3ee1688d-e8df-40f8-ba98-e959110d8c36",
   "metadata": {},
   "source": [
    "# Introduction"
   ]
  },
  {
   "cell_type": "markdown",
   "id": "4db963ee-a09b-4450-8c2e-17c0ba411c0a",
   "metadata": {},
   "source": [
    "Similar to illustris_python, we install and load our module from a directory. "
   ]
  },
  {
   "cell_type": "code",
   "execution_count": null,
   "id": "a9eb79e1-b869-43ec-a6e6-0d01f2faa42a",
   "metadata": {},
   "outputs": [],
   "source": [
    "# import h5py\n",
    "\n",
    "# f = h5py.File('/mnt/ceph/users/agabrielpillai/camels_sam/CV/CV_3/hdf5/0_0_0/subvolume.hdf5', 'r')"
   ]
  },
  {
   "cell_type": "code",
   "execution_count": null,
   "id": "eb19d9ee-1d1c-4d89-a889-7bf79847cb0f",
   "metadata": {},
   "outputs": [],
   "source": [
    "# string = \"{:<24s} {:<25s} {}\"\n",
    "\n",
    "# _ = [[print(f['Galprop'][key].attrs['Desc']) ]  \n",
    "#      for key in f['Galprop'].keys()]"
   ]
  },
  {
   "cell_type": "code",
   "execution_count": null,
   "id": "a865c5a2-3744-4fb6-8c6e-76746336caf9",
   "metadata": {},
   "outputs": [],
   "source": [
    "# string = \"{:<24s} {:<25s} {}\"\n",
    "\n",
    "# _ = [[print(string.format(key, f['Galprop'][key].attrs['Units'], f['Galprop'][key].attrs['Desc'])) ]  \n",
    "#      for key in f['Galprop'].keys()]"
   ]
  },
  {
   "cell_type": "code",
   "execution_count": null,
   "id": "4298e2fb-f168-48b4-9a13-817ceea71c75",
   "metadata": {},
   "outputs": [],
   "source": []
  },
  {
   "cell_type": "code",
   "execution_count": null,
   "id": "c3da6c42-9617-4248-ba46-2856c24cec37",
   "metadata": {
    "tags": []
   },
   "outputs": [],
   "source": [
    "site.addsitedir('/mnt/home/agabrielpillai/github/') \n",
    "import scsample"
   ]
  },
  {
   "cell_type": "markdown",
   "id": "b7d5e7ba-1ffb-470a-8568-272d3864154f",
   "metadata": {},
   "source": [
    "First, we specify the basepath to the simulation."
   ]
  },
  {
   "cell_type": "code",
   "execution_count": null,
   "id": "9d3d190b-97ff-45b3-a0ee-3915e09a262b",
   "metadata": {
    "tags": []
   },
   "outputs": [],
   "source": [
    "basePath = '/mnt/ceph/users/agabrielpillai/camels_sam/CV/CV_3/hdf5'"
   ]
  },
  {
   "cell_type": "markdown",
   "id": "b0fa804e-f145-4e1e-b6d3-82094642f6e7",
   "metadata": {},
   "source": [
    "The header will give us some basic information about the star formation histories and simulation. "
   ]
  },
  {
   "cell_type": "code",
   "execution_count": null,
   "id": "68e7e694-5394-4eb0-92e6-a40631c639b1",
   "metadata": {},
   "outputs": [],
   "source": [
    "header = ilsam.utility.load_header(basePath, [1, 0, 1], 'sfh')\n",
    "\n",
    "header['h'], header['Omega_m'], header['SFH_tbins']"
   ]
  },
  {
   "cell_type": "markdown",
   "id": "f930ffd8-4d5d-4f63-b7e6-d159e2efb3b5",
   "metadata": {},
   "source": [
    "We see `header['h']` and `header['Omega_m']` are important information for instantiating cosmologies through astropy ... "
   ]
  },
  {
   "cell_type": "markdown",
   "id": "8f53f66a-0b1b-4997-b325-2383c012284a",
   "metadata": {},
   "source": [
    "## Linkprop"
   ]
  },
  {
   "cell_type": "markdown",
   "id": "e46a3714-52d9-4f73-bc6b-e64bc45cfb8b",
   "metadata": {},
   "source": [
    "Let's see what info lives in the star formation history file. First, we have `linkprop`, which contains general information and linking data between the star formation histories and `galprop`. We can load `linkprop` for an entire subvolume while leaving the optional argument ``fields`` as None to see everything ... "
   ]
  },
  {
   "cell_type": "code",
   "execution_count": null,
   "id": "75b67265-36fa-41c4-b425-8477142228e9",
   "metadata": {},
   "outputs": [],
   "source": [
    "link_res = ilsam.histcat.load_linkprop(basePath, [1, 0, 0])\n",
    "link_res"
   ]
  },
  {
   "cell_type": "markdown",
   "id": "6a7d74fc-4df8-4ad1-b89c-d5270dcd595c",
   "metadata": {},
   "source": [
    "Most of this information is for internal purposes but serves as good validation if the crossmatching between `linkprop` / `histprop` and `galprop` is done correctly. "
   ]
  },
  {
   "cell_type": "markdown",
   "id": "5adb062f-2542-4b5b-b05a-da88d257c079",
   "metadata": {},
   "source": [
    "## Histprop"
   ]
  },
  {
   "cell_type": "code",
   "execution_count": null,
   "id": "b599f2a0-930d-4089-ab7e-275834cf4154",
   "metadata": {},
   "outputs": [],
   "source": [
    "subvolumes = ilsam.utility.gen_subvolume_list(8)\n",
    "subvolumes"
   ]
  },
  {
   "cell_type": "code",
   "execution_count": null,
   "id": "0cab8fc6-d2c3-4907-be3e-f68f46f9c952",
   "metadata": {},
   "outputs": [],
   "source": [
    "sfh_res = ilsam.histcat.load_histprop(basePath, [0, 0, 0])\n"
   ]
  },
  {
   "cell_type": "code",
   "execution_count": null,
   "id": "ef480d7b-8ecb-46b7-a81f-d3178058c6fb",
   "metadata": {
    "scrolled": true
   },
   "outputs": [],
   "source": [
    "snap_num = 99 \n",
    "\n",
    "sfh_res_snap = ilsam.histcat.load_snapshot_histprop(basePath, snap_num, subvolumes)\n",
    "sfh_res_snap, sfh_res_snap['HistpropSFH'].shape"
   ]
  },
  {
   "cell_type": "code",
   "execution_count": null,
   "id": "1ae471a6-ecf7-4f43-8943-95f15dbcf4ab",
   "metadata": {},
   "outputs": [],
   "source": [
    "tbins = header['SFH_tbins']\n",
    "\n",
    "fig, axes = plt.subplots(1, 2, figsize=(8, 4))\n",
    "\n",
    "[axes[0].plot(tbins, sfh_res_snap['HistpropSFH'][i, :], c='blue', label='SFH', alpha=1) for i in range(1)]\n",
    "[axes[1].plot(tbins, sfh_res_snap['HistpropZt'][i, :], c='orange', label='Zt', alpha=1) for i in range(1)]\n",
    "\n",
    "# _ = [ax.legend() for ax in axes]\n",
    "\n",
    "_ = [ax.set_xlabel(r'$t_{\\rm age, uni} \\, [{\\rm Gyr}]$') for ax in axes]\n",
    "# _ = [ax.set_yscale('log') for ax in axes]"
   ]
  },
  {
   "cell_type": "markdown",
   "id": "84576073-e185-4fd5-9866-4f0b64b59a2a",
   "metadata": {},
   "source": [
    "## Crossmatching to galprop"
   ]
  },
  {
   "cell_type": "code",
   "execution_count": null,
   "id": "cc6e9abe-8743-4d6f-8eda-96c22fe1be2d",
   "metadata": {},
   "outputs": [],
   "source": [
    "galprop_res = ilsam.histcat.crossmatch_galprop(basePath, [0, 0, 0]) #, galprop_fields=galprop_fields)\n",
    "# galprop_res"
   ]
  },
  {
   "cell_type": "code",
   "execution_count": null,
   "id": "1c5393e5-f62c-4e2a-a2b8-76eebae80e8c",
   "metadata": {},
   "outputs": [],
   "source": [
    "link_res_snap = ilsam.histcat.load_snapshot_linkprop(basePath, snap_num, subvolumes)\n",
    "link_res_snap['LinkpropBirthHaloID']"
   ]
  },
  {
   "cell_type": "code",
   "execution_count": null,
   "id": "05afa0b4-3701-476c-b2a9-fecc40c14377",
   "metadata": {},
   "outputs": [],
   "source": [
    "galprop_res_snap = ilsam.histcat.crossmatch_snapshot_galprop(basePath, snap_num, subvolumes) #, galprop_fields=galprop_fields)\n",
    "galprop_res_snap['GalpropBirthHaloID']"
   ]
  },
  {
   "cell_type": "code",
   "execution_count": null,
   "id": "95dad2db-301b-41e2-b5ff-3dd46e724716",
   "metadata": {},
   "outputs": [],
   "source": []
  },
  {
   "cell_type": "code",
   "execution_count": null,
   "id": "b83de7fd-804c-4a9d-92e8-418df3b5cdd5",
   "metadata": {},
   "outputs": [],
   "source": [
    "f_rec = 0.43 \n",
    "\n",
    "\n",
    "mstar = ilsam.groupcat.load_galprop(basePath, [0, 0, 0])['GalpropMstar']\n",
    "\n",
    "fig, ax = plt.subplots(1, 1) \n",
    "\n",
    "ax.scatter(np.log10(sfh_res['HistpropSFH'].sum(axis=1) * 1e9 * (1 - f_rec)  ), \n",
    "            np.log10(1e9*galprop_res['GalpropMstar']), \n",
    "           s = 0.1)\n",
    "\n",
    "\n",
    "ax.scatter(np.log10(sfh_res['HistpropSFH'].sum(axis=1) * 1e9  * (1 - f_rec) ), \n",
    "            np.log10(1e9*mstar[mstar * 1e9 >= 1e9]), \n",
    "           s = 0.1)\n",
    "\n",
    "ax.plot([8, 12], [8, 12], ls='--', c='black') \n",
    "ax.set_xlim(8, 12)\n",
    "ax.set_ylim(8, 12) \n",
    "\n",
    "ax.set_xlabel(r'$ \\log_{10} \\Sigma({\\rm SFH}) \\, [M_\\odot] $')\n",
    "ax.set_ylabel(r'$\\log_{10} m_{*} \\, [M_\\odot]$')"
   ]
  },
  {
   "cell_type": "code",
   "execution_count": null,
   "id": "92339c92-0810-4877-8494-286fd5284fa4",
   "metadata": {},
   "outputs": [],
   "source": [
    "f_rec = 0.43 \n",
    "\n",
    "fig, ax = plt.subplots(1, 1, figsize=(5, 5)) \n",
    "\n",
    "ax.scatter(np.log10(sfh_res_snap['HistpropSFH'].sum(axis=1) * 1e9 * (1 - f_rec) ), \n",
    "            np.log10(1e9*galprop_res_snap['GalpropMstar']), \n",
    "           s = 0.1, alpha=0.1, c='black')\n",
    "\n",
    "ax.plot([8, 12], [8, 12], ls='--', c='black') \n",
    "ax.set_xlim(7, 12)\n",
    "ax.set_ylim(8.5, 12) \n",
    "\n",
    "ax.set_xlabel(r'$ \\log_{10} m_{*, \\rm SFH} = (1 - f_{\\rm rec}) \\Sigma({\\rm SFH}) \\, [M_\\odot] $', fontsize=14)\n",
    "ax.set_ylabel(r'$\\log_{10} m_{*, \\rm galprop} \\, [M_\\odot]$', fontsize=14)"
   ]
  },
  {
   "cell_type": "markdown",
   "id": "839fa25e-0c65-48d4-8eee-d5093c5baed7",
   "metadata": {},
   "source": [
    "# Interfacing SFHs with FSPS "
   ]
  },
  {
   "cell_type": "markdown",
   "id": "883e54de-92cf-485e-b196-57cd66b517bd",
   "metadata": {},
   "source": [
    "more to come ... "
   ]
  },
  {
   "cell_type": "markdown",
   "id": "0e8963e0-35de-435c-9693-7ceaa93b8bbb",
   "metadata": {},
   "source": [
    "# Interfacing SFHs with Synthesizer "
   ]
  },
  {
   "cell_type": "markdown",
   "id": "463715c5-6d80-45a9-ae28-9a51ce09483f",
   "metadata": {},
   "source": [
    "more to come ..."
   ]
  },
  {
   "cell_type": "code",
   "execution_count": null,
   "id": "18399c0f-d4fb-48ef-bb1d-980edbeda01a",
   "metadata": {},
   "outputs": [],
   "source": []
  }
 ],
 "metadata": {
  "kernelspec": {
   "display_name": "mykernel3.8",
   "language": "python",
   "name": "mykernel3.8"
  },
  "language_info": {
   "codemirror_mode": {
    "name": "ipython",
    "version": 3
   },
   "file_extension": ".py",
   "mimetype": "text/x-python",
   "name": "python",
   "nbconvert_exporter": "python",
   "pygments_lexer": "ipython3",
   "version": "3.8.16"
  }
 },
 "nbformat": 4,
 "nbformat_minor": 5
}
