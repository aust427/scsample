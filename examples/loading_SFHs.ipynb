{
 "cells": [
  {
   "cell_type": "code",
   "execution_count": 1,
   "id": "e90ac70a-ddaa-47f2-8f16-a25b903701f3",
   "metadata": {
    "tags": []
   },
   "outputs": [],
   "source": [
    "%matplotlib inline\n",
    "import matplotlib.pyplot as plt\n",
    "\n",
    "import site\n",
    "import numpy as np\n",
    "import pandas as pd"
   ]
  },
  {
   "cell_type": "code",
   "execution_count": 50,
   "id": "eeba3b50-d87e-41d9-bc4e-5add09728d6a",
   "metadata": {},
   "outputs": [
    {
     "data": {
      "text/plain": [
       "(10.0, 14.1)"
      ]
     },
     "execution_count": 50,
     "metadata": {},
     "output_type": "execute_result"
    },
    {
     "data": {
      "image/png": "[encoded data removed]",
      "text/plain": [
       "<Figure size 640x480 with 1 Axes>"
      ]
     },
     "metadata": {},
     "output_type": "display_data"
    }
   ],
   "source": [
    "plt.plot(age_center_bins, hist)\n",
    "plt.xlim(10, 14.1)"
   ]
  },
  {
   "cell_type": "markdown",
   "id": "3ee1688d-e8df-40f8-ba98-e959110d8c36",
   "metadata": {},
   "source": [
    "# Introduction"
   ]
  },
  {
   "cell_type": "markdown",
   "id": "4db963ee-a09b-4450-8c2e-17c0ba411c0a",
   "metadata": {},
   "source": [
    "Similar to illustris_python, we install and load our module from a directory. "
   ]
  },
  {
   "cell_type": "code",
   "execution_count": 2,
   "id": "a9eb79e1-b869-43ec-a6e6-0d01f2faa42a",
   "metadata": {},
   "outputs": [],
   "source": [
    "# import h5py\n",
    "\n",
    "# f = h5py.File('/mnt/ceph/users/agabrielpillai/camels_sam/CV/CV_3/hdf5/0_0_0/subvolume.hdf5', 'r')"
   ]
  },
  {
   "cell_type": "code",
   "execution_count": 3,
   "id": "eb19d9ee-1d1c-4d89-a889-7bf79847cb0f",
   "metadata": {},
   "outputs": [],
   "source": [
    "# string = \"{:<24s} {:<25s} {}\"\n",
    "\n",
    "# _ = [[print(f['Galprop'][key].attrs['Desc']) ]  \n",
    "#      for key in f['Galprop'].keys()]"
   ]
  },
  {
   "cell_type": "code",
   "execution_count": 4,
   "id": "a865c5a2-3744-4fb6-8c6e-76746336caf9",
   "metadata": {},
   "outputs": [],
   "source": [
    "# string = \"{:<24s} {:<25s} {}\"\n",
    "\n",
    "# _ = [[print(string.format(key, f['Galprop'][key].attrs['Units'], f['Galprop'][key].attrs['Desc'])) ]  \n",
    "#      for key in f['Galprop'].keys()]"
   ]
  },
  {
   "cell_type": "code",
   "execution_count": null,
   "id": "4298e2fb-f168-48b4-9a13-817ceea71c75",
   "metadata": {},
   "outputs": [],
   "source": []
  },
  {
   "cell_type": "code",
   "execution_count": 5,
   "id": "c3da6c42-9617-4248-ba46-2856c24cec37",
   "metadata": {
    "tags": []
   },
   "outputs": [],
   "source": [
    "site.addsitedir('/mnt/home/agabrielpillai/github/') \n",
    "import scsample"
   ]
  },
  {
   "cell_type": "markdown",
   "id": "b7d5e7ba-1ffb-470a-8568-272d3864154f",
   "metadata": {},
   "source": [
    "First, we specify the basepath to the simulation."
   ]
  },
  {
   "cell_type": "code",
   "execution_count": 6,
   "id": "9d3d190b-97ff-45b3-a0ee-3915e09a262b",
   "metadata": {
    "tags": []
   },
   "outputs": [],
   "source": [
    "basePath = '/mnt/ceph/users/agabrielpillai/camels_sam/CV/CV_3/hdf5'"
   ]
  },
  {
   "cell_type": "markdown",
   "id": "b0fa804e-f145-4e1e-b6d3-82094642f6e7",
   "metadata": {},
   "source": [
    "The header will give us some basic information about the star formation histories and simulation. "
   ]
  },
  {
   "cell_type": "code",
   "execution_count": 8,
   "id": "68e7e694-5394-4eb0-92e6-a40631c639b1",
   "metadata": {},
   "outputs": [
    {
     "data": {
      "text/plain": [
       "(0.6711,\n",
       " 0.3,\n",
       " array([5.0000e-03, 1.5000e-02, 2.5000e-02, ..., 1.9975e+01, 1.9985e+01,\n",
       "        1.9995e+01], dtype=float32))"
      ]
     },
     "execution_count": 8,
     "metadata": {},
     "output_type": "execute_result"
    }
   ],
   "source": [
    "header = scsample.utility.load_header(basePath, [1, 0, 1], 'sfh')\n",
    "\n",
    "header['h'], header['Omega_m'], header['SFH_tbins']"
   ]
  },
  {
   "cell_type": "markdown",
   "id": "f930ffd8-4d5d-4f63-b7e6-d159e2efb3b5",
   "metadata": {},
   "source": [
    "We see `header['h']` and `header['Omega_m']` are important information for instantiating cosmologies through astropy ... "
   ]
  },
  {
   "cell_type": "markdown",
   "id": "8f53f66a-0b1b-4997-b325-2383c012284a",
   "metadata": {},
   "source": [
    "## Linkprop"
   ]
  },
  {
   "cell_type": "markdown",
   "id": "e46a3714-52d9-4f73-bc6b-e64bc45cfb8b",
   "metadata": {},
   "source": [
    "Let's see what info lives in the star formation history file. First, we have `linkprop`, which contains general information and linking data between the star formation histories and `galprop`. We can load `linkprop` for an entire subvolume while leaving the optional argument ``fields`` as None to see everything ... "
   ]
  },
  {
   "cell_type": "code",
   "execution_count": 9,
   "id": "75b67265-36fa-41c4-b425-8477142228e9",
   "metadata": {},
   "outputs": [
    {
     "data": {
      "text/plain": [
       "{'LinkpropBirthHaloID': array([48838761, 49446534, 50052280, ..., 55765794, 56376151, 56960930],\n",
       "       dtype=uint32),\n",
       " 'LinkpropHaloIndex': array([     0,      1,      2, ..., 102592, 102593, 102594], dtype=uint32),\n",
       " 'LinkpropRedshift': array([0.167174 , 0.152751 , 0.139173 , ..., 0.0233739, 0.0113166,\n",
       "        0.       ], dtype=float32),\n",
       " 'LinkpropRootHaloID': array([56639814, 56639814, 56639814, ..., 56960930, 56960930, 56960930],\n",
       "       dtype=uint32),\n",
       " 'LinkpropSnapNum': array([86, 87, 88, ..., 97, 98, 99], dtype=uint32)}"
      ]
     },
     "execution_count": 9,
     "metadata": {},
     "output_type": "execute_result"
    }
   ],
   "source": [
    "link_res = scsample.histcat.load_linkprop(basePath, [1, 0, 0])\n",
    "link_res"
   ]
  },
  {
   "cell_type": "markdown",
   "id": "6a7d74fc-4df8-4ad1-b89c-d5270dcd595c",
   "metadata": {},
   "source": [
    "Most of this information is for internal purposes but serves as good validation if the crossmatching between `linkprop` / `histprop` and `galprop` is done correctly. "
   ]
  },
  {
   "cell_type": "markdown",
   "id": "5adb062f-2542-4b5b-b05a-da88d257c079",
   "metadata": {},
   "source": [
    "## Histprop"
   ]
  },
  {
   "cell_type": "code",
   "execution_count": 11,
   "id": "b599f2a0-930d-4089-ab7e-275834cf4154",
   "metadata": {},
   "outputs": [
    {
     "data": {
      "text/plain": [
       "[[0, 0, 0],\n",
       " [0, 0, 1],\n",
       " [0, 1, 0],\n",
       " [0, 1, 1],\n",
       " [1, 0, 0],\n",
       " [1, 0, 1],\n",
       " [1, 1, 0],\n",
       " [1, 1, 1]]"
      ]
     },
     "execution_count": 11,
     "metadata": {},
     "output_type": "execute_result"
    }
   ],
   "source": [
    "subvolumes = scsample.utility.gen_subvolume_list(8)\n",
    "subvolumes"
   ]
  },
  {
   "cell_type": "code",
   "execution_count": 12,
   "id": "0cab8fc6-d2c3-4907-be3e-f68f46f9c952",
   "metadata": {},
   "outputs": [],
   "source": [
    "sfh_res = scsample.histcat.load_histprop(basePath, [0, 0, 0])\n"
   ]
  },
  {
   "cell_type": "code",
   "execution_count": 13,
   "id": "ef480d7b-8ecb-46b7-a81f-d3178058c6fb",
   "metadata": {
    "scrolled": true
   },
   "outputs": [
    {
     "name": "stderr",
     "output_type": "stream",
     "text": [
      "100%|██████████| 8/8 [00:14<00:00,  1.82s/it]\n"
     ]
    },
    {
     "data": {
      "text/plain": [
       "({'HistpropSFH': array([[0., 0., 0., ..., 0., 0., 0.],\n",
       "         [0., 0., 0., ..., 0., 0., 0.],\n",
       "         [0., 0., 0., ..., 0., 0., 0.],\n",
       "         ...,\n",
       "         [0., 0., 0., ..., 0., 0., 0.],\n",
       "         [0., 0., 0., ..., 0., 0., 0.],\n",
       "         [0., 0., 0., ..., 0., 0., 0.]], dtype=float32),\n",
       "  'HistpropZt': array([[0., 0., 0., ..., 0., 0., 0.],\n",
       "         [0., 0., 0., ..., 0., 0., 0.],\n",
       "         [0., 0., 0., ..., 0., 0., 0.],\n",
       "         ...,\n",
       "         [0., 0., 0., ..., 0., 0., 0.],\n",
       "         [0., 0., 0., ..., 0., 0., 0.],\n",
       "         [0., 0., 0., ..., 0., 0., 0.]], dtype=float32)},\n",
       " (43287, 2000))"
      ]
     },
     "execution_count": 13,
     "metadata": {},
     "output_type": "execute_result"
    }
   ],
   "source": [
    "snap_num = 99 \n",
    "\n",
    "sfh_res_snap = scsample.histcat.load_snapshot_histprop(basePath, snap_num, subvolumes)\n",
    "sfh_res_snap, sfh_res_snap['HistpropSFH'].shape"
   ]
  },
  {
   "cell_type": "code",
   "execution_count": 14,
   "id": "1ae471a6-ecf7-4f43-8943-95f15dbcf4ab",
   "metadata": {},
   "outputs": [
    {
     "data": {
      "image/png": "[encoded data removed]",
      "text/plain": [
       "<Figure size 800x400 with 2 Axes>"
      ]
     },
     "metadata": {},
     "output_type": "display_data"
    }
   ],
   "source": [
    "tbins = header['SFH_tbins']\n",
    "\n",
    "fig, axes = plt.subplots(1, 2, figsize=(8, 4))\n",
    "\n",
    "[axes[0].plot(tbins, sfh_res_snap['HistpropSFH'][i, :], c='blue', label='SFH', alpha=1) for i in range(1)]\n",
    "[axes[1].plot(tbins, sfh_res_snap['HistpropZt'][i, :], c='orange', label='Zt', alpha=1) for i in range(1)]\n",
    "\n",
    "# _ = [ax.legend() for ax in axes]\n",
    "\n",
    "_ = [ax.set_xlabel(r'$t_{\\rm age, uni} \\, [{\\rm Gyr}]$') for ax in axes]\n",
    "# _ = [ax.set_yscale('log') for ax in axes]"
   ]
  },
  {
   "cell_type": "markdown",
   "id": "84576073-e185-4fd5-9866-4f0b64b59a2a",
   "metadata": {},
   "source": [
    "## Crossmatching to galprop"
   ]
  },
  {
   "cell_type": "code",
   "execution_count": 16,
   "id": "cc6e9abe-8743-4d6f-8eda-96c22fe1be2d",
   "metadata": {},
   "outputs": [
    {
     "ename": "Exception",
     "evalue": "Catalog does not have requested field [LinkproptoGalprop]!",
     "output_type": "error",
     "traceback": [
      "\u001b[0;31m---------------------------------------------------------------------------\u001b[0m",
      "\u001b[0;31mException\u001b[0m                                 Traceback (most recent call last)",
      "Cell \u001b[0;32mIn[16], line 1\u001b[0m\n\u001b[0;32m----> 1\u001b[0m galprop_res \u001b[38;5;241m=\u001b[39m \u001b[43mscsample\u001b[49m\u001b[38;5;241;43m.\u001b[39;49m\u001b[43mhistcat\u001b[49m\u001b[38;5;241;43m.\u001b[39;49m\u001b[43mcrossmatch_galprop\u001b[49m\u001b[43m(\u001b[49m\u001b[43mbasePath\u001b[49m\u001b[43m,\u001b[49m\u001b[43m \u001b[49m\u001b[43m[\u001b[49m\u001b[38;5;241;43m0\u001b[39;49m\u001b[43m,\u001b[49m\u001b[43m \u001b[49m\u001b[38;5;241;43m0\u001b[39;49m\u001b[43m,\u001b[49m\u001b[43m \u001b[49m\u001b[38;5;241;43m0\u001b[39;49m\u001b[43m]\u001b[49m\u001b[43m)\u001b[49m\n",
      "File \u001b[0;32m~/github/scsample/histcat.py:95\u001b[0m, in \u001b[0;36mcrossmatch_galprop\u001b[0;34m(base_path, subvolume, galprop_fields)\u001b[0m\n\u001b[1;32m     94\u001b[0m \u001b[38;5;28;01mdef\u001b[39;00m \u001b[38;5;21mcrossmatch_galprop\u001b[39m(base_path, subvolume, galprop_fields\u001b[38;5;241m=\u001b[39m\u001b[38;5;28;01mNone\u001b[39;00m): \n\u001b[0;32m---> 95\u001b[0m     galprop_idx \u001b[38;5;241m=\u001b[39m \u001b[43mload_linkprop\u001b[49m\u001b[43m(\u001b[49m\u001b[43mbase_path\u001b[49m\u001b[43m,\u001b[49m\u001b[43m \u001b[49m\u001b[43msubvolume\u001b[49m\u001b[43m,\u001b[49m\u001b[43m \u001b[49m\u001b[43mfields\u001b[49m\u001b[38;5;241;43m=\u001b[39;49m\u001b[43m[\u001b[49m\u001b[38;5;124;43m'\u001b[39;49m\u001b[38;5;124;43mLinkproptoGalprop\u001b[39;49m\u001b[38;5;124;43m'\u001b[39;49m\u001b[43m]\u001b[49m\u001b[43m)\u001b[49m[\u001b[38;5;124m'\u001b[39m\u001b[38;5;124mLinkproptoGalprop\u001b[39m\u001b[38;5;124m'\u001b[39m]\n\u001b[1;32m     96\u001b[0m     galprop \u001b[38;5;241m=\u001b[39m load_galprop(base_path, subvolume, fields\u001b[38;5;241m=\u001b[39mgalprop_fields)\n\u001b[1;32m     98\u001b[0m     \u001b[38;5;28;01mfor\u001b[39;00m key \u001b[38;5;129;01min\u001b[39;00m galprop\u001b[38;5;241m.\u001b[39mkeys(): \n",
      "File \u001b[0;32m~/github/scsample/histcat.py:83\u001b[0m, in \u001b[0;36mload_linkprop\u001b[0;34m(base_path, subvolume, fields)\u001b[0m\n\u001b[1;32m     82\u001b[0m \u001b[38;5;28;01mdef\u001b[39;00m \u001b[38;5;21mload_linkprop\u001b[39m(base_path, subvolume, fields\u001b[38;5;241m=\u001b[39m\u001b[38;5;28;01mNone\u001b[39;00m):        \n\u001b[0;32m---> 83\u001b[0m     \u001b[38;5;28;01mreturn\u001b[39;00m \u001b[43mload_subvolume\u001b[49m\u001b[43m(\u001b[49m\u001b[43mbase_path\u001b[49m\u001b[43m,\u001b[49m\u001b[43m \u001b[49m\u001b[43msubvolume\u001b[49m\u001b[43m,\u001b[49m\u001b[43m \u001b[49m\u001b[38;5;124;43m'\u001b[39;49m\u001b[38;5;124;43mLinkprop\u001b[39;49m\u001b[38;5;124;43m'\u001b[39;49m\u001b[43m,\u001b[49m\u001b[43m \u001b[49m\u001b[43mfields\u001b[49m\u001b[43m,\u001b[49m\u001b[43m \u001b[49m\u001b[43mflag\u001b[49m\u001b[38;5;241;43m=\u001b[39;49m\u001b[38;5;28;43;01mTrue\u001b[39;49;00m\u001b[43m)\u001b[49m\n",
      "File \u001b[0;32m~/github/scsample/histcat.py:30\u001b[0m, in \u001b[0;36mload_subvolume\u001b[0;34m(base_path, subvolume, group, fields, flag)\u001b[0m\n\u001b[1;32m     28\u001b[0m     \u001b[38;5;28;01mfor\u001b[39;00m field \u001b[38;5;129;01min\u001b[39;00m fields:\n\u001b[1;32m     29\u001b[0m         \u001b[38;5;28;01mif\u001b[39;00m field \u001b[38;5;129;01mnot\u001b[39;00m \u001b[38;5;129;01min\u001b[39;00m f[group]\u001b[38;5;241m.\u001b[39mkeys():\n\u001b[0;32m---> 30\u001b[0m             \u001b[38;5;28;01mraise\u001b[39;00m \u001b[38;5;167;01mException\u001b[39;00m(\u001b[38;5;124m\"\u001b[39m\u001b[38;5;124mCatalog does not have requested field [\u001b[39m\u001b[38;5;132;01m{}\u001b[39;00m\u001b[38;5;124m]!\u001b[39m\u001b[38;5;124m\"\u001b[39m\u001b[38;5;241m.\u001b[39mformat(field))\n\u001b[1;32m     32\u001b[0m \u001b[38;5;28;01mfor\u001b[39;00m field \u001b[38;5;129;01min\u001b[39;00m fields:\n\u001b[1;32m     33\u001b[0m     result[field] \u001b[38;5;241m=\u001b[39m f[group][field][:]\n",
      "\u001b[0;31mException\u001b[0m: Catalog does not have requested field [LinkproptoGalprop]!"
     ]
    }
   ],
   "source": [
    "galprop_res = scsample.histcat.crossmatch_galprop(basePath, [0, 0, 0]) #, galprop_fields=galprop_fields)\n",
    "# galprop_res"
   ]
  },
  {
   "cell_type": "code",
   "execution_count": 17,
   "id": "1c5393e5-f62c-4e2a-a2b8-76eebae80e8c",
   "metadata": {},
   "outputs": [
    {
     "name": "stderr",
     "output_type": "stream",
     "text": [
      "100%|██████████| 8/8 [00:00<00:00, 153.04it/s]\n"
     ]
    },
    {
     "data": {
      "text/plain": [
       "array([56495026, 56495029, 56495032, ..., 52257384, 52257396, 53457348],\n",
       "      dtype=uint32)"
      ]
     },
     "execution_count": 17,
     "metadata": {},
     "output_type": "execute_result"
    }
   ],
   "source": [
    "link_res_snap = scsample.histcat.load_snapshot_linkprop(basePath, snap_num, subvolumes)\n",
    "link_res_snap['LinkpropBirthHaloID']"
   ]
  },
  {
   "cell_type": "code",
   "execution_count": 18,
   "id": "05afa0b4-3701-476c-b2a9-fecc40c14377",
   "metadata": {},
   "outputs": [
    {
     "ename": "Exception",
     "evalue": "Catalog does not have requested field [LinkproptoGalprop_Snapshot]!",
     "output_type": "error",
     "traceback": [
      "\u001b[0;31m---------------------------------------------------------------------------\u001b[0m",
      "\u001b[0;31mException\u001b[0m                                 Traceback (most recent call last)",
      "Cell \u001b[0;32mIn[18], line 1\u001b[0m\n\u001b[0;32m----> 1\u001b[0m galprop_res_snap \u001b[38;5;241m=\u001b[39m \u001b[43mscsample\u001b[49m\u001b[38;5;241;43m.\u001b[39;49m\u001b[43mhistcat\u001b[49m\u001b[38;5;241;43m.\u001b[39;49m\u001b[43mcrossmatch_snapshot_galprop\u001b[49m\u001b[43m(\u001b[49m\u001b[43mbasePath\u001b[49m\u001b[43m,\u001b[49m\u001b[43m \u001b[49m\u001b[43msnap_num\u001b[49m\u001b[43m,\u001b[49m\u001b[43m \u001b[49m\u001b[43msubvolumes\u001b[49m\u001b[43m)\u001b[49m \u001b[38;5;66;03m#, galprop_fields=galprop_fields)\u001b[39;00m\n\u001b[1;32m      2\u001b[0m galprop_res_snap[\u001b[38;5;124m'\u001b[39m\u001b[38;5;124mGalpropBirthHaloID\u001b[39m\u001b[38;5;124m'\u001b[39m]\n",
      "File \u001b[0;32m~/github/scsample/histcat.py:104\u001b[0m, in \u001b[0;36mcrossmatch_snapshot_galprop\u001b[0;34m(base_path, snap_num, subvolume, galprop_fields, verbose)\u001b[0m\n\u001b[1;32m    103\u001b[0m \u001b[38;5;28;01mdef\u001b[39;00m \u001b[38;5;21mcrossmatch_snapshot_galprop\u001b[39m(base_path, snap_num, subvolume, galprop_fields\u001b[38;5;241m=\u001b[39m\u001b[38;5;28;01mNone\u001b[39;00m, verbose\u001b[38;5;241m=\u001b[39m\u001b[38;5;28;01mTrue\u001b[39;00m):\n\u001b[0;32m--> 104\u001b[0m     galprop_idx \u001b[38;5;241m=\u001b[39m \u001b[43mload_snapshot_linkprop\u001b[49m\u001b[43m(\u001b[49m\u001b[43mbase_path\u001b[49m\u001b[43m,\u001b[49m\u001b[43m \u001b[49m\u001b[43msnap_num\u001b[49m\u001b[43m,\u001b[49m\u001b[43m \u001b[49m\u001b[43msubvolume\u001b[49m\u001b[43m,\u001b[49m\u001b[43m \u001b[49m\n\u001b[1;32m    105\u001b[0m \u001b[43m                                \u001b[49m\u001b[43mfields\u001b[49m\u001b[38;5;241;43m=\u001b[39;49m\u001b[43m[\u001b[49m\u001b[38;5;124;43m'\u001b[39;49m\u001b[38;5;124;43mLinkproptoGalprop_Snapshot\u001b[39;49m\u001b[38;5;124;43m'\u001b[39;49m\u001b[43m]\u001b[49m\u001b[43m)\u001b[49m[\u001b[38;5;124m'\u001b[39m\u001b[38;5;124mLinkproptoGalprop_Snapshot\u001b[39m\u001b[38;5;124m'\u001b[39m]\n\u001b[1;32m    106\u001b[0m     galprop \u001b[38;5;241m=\u001b[39m load_snapshot_subhalos(base_path, snap_num, subvolume, fields\u001b[38;5;241m=\u001b[39mgalprop_fields, verbose\u001b[38;5;241m=\u001b[39mverbose)\n\u001b[1;32m    108\u001b[0m     \u001b[38;5;28;01mfor\u001b[39;00m key \u001b[38;5;129;01min\u001b[39;00m galprop\u001b[38;5;241m.\u001b[39mkeys(): \n",
      "File \u001b[0;32m~/github/scsample/histcat.py:89\u001b[0m, in \u001b[0;36mload_snapshot_linkprop\u001b[0;34m(base_path, snap_num, subvolume, fields)\u001b[0m\n\u001b[1;32m     88\u001b[0m \u001b[38;5;28;01mdef\u001b[39;00m \u001b[38;5;21mload_snapshot_linkprop\u001b[39m(base_path, snap_num, subvolume, fields\u001b[38;5;241m=\u001b[39m\u001b[38;5;28;01mNone\u001b[39;00m):\n\u001b[0;32m---> 89\u001b[0m     \u001b[38;5;28;01mreturn\u001b[39;00m \u001b[43mload_snapshot\u001b[49m\u001b[43m(\u001b[49m\u001b[43mbase_path\u001b[49m\u001b[43m,\u001b[49m\u001b[43m \u001b[49m\u001b[43msnap_num\u001b[49m\u001b[43m,\u001b[49m\u001b[43m \u001b[49m\u001b[43msubvolume\u001b[49m\u001b[43m,\u001b[49m\u001b[43m \u001b[49m\u001b[38;5;124;43m'\u001b[39;49m\u001b[38;5;124;43mLinkprop\u001b[39;49m\u001b[38;5;124;43m'\u001b[39;49m\u001b[43m,\u001b[49m\u001b[43m \u001b[49m\u001b[43mfields\u001b[49m\u001b[43m,\u001b[49m\u001b[43m \u001b[49m\u001b[43mflag\u001b[49m\u001b[38;5;241;43m=\u001b[39;49m\u001b[38;5;28;43;01mTrue\u001b[39;49;00m\u001b[43m)\u001b[49m\n",
      "File \u001b[0;32m~/github/scsample/histcat.py:53\u001b[0m, in \u001b[0;36mload_snapshot\u001b[0;34m(base_path, snap_num, subvolumes, group, fields, flag, verbose)\u001b[0m\n\u001b[1;32m     51\u001b[0m \u001b[38;5;28;01mfor\u001b[39;00m field \u001b[38;5;129;01min\u001b[39;00m fields:\n\u001b[1;32m     52\u001b[0m     \u001b[38;5;28;01mif\u001b[39;00m field \u001b[38;5;129;01mnot\u001b[39;00m \u001b[38;5;129;01min\u001b[39;00m f[group]\u001b[38;5;241m.\u001b[39mkeys():\n\u001b[0;32m---> 53\u001b[0m         \u001b[38;5;28;01mraise\u001b[39;00m \u001b[38;5;167;01mException\u001b[39;00m(\u001b[38;5;124m\"\u001b[39m\u001b[38;5;124mCatalog does not have requested field [\u001b[39m\u001b[38;5;132;01m{}\u001b[39;00m\u001b[38;5;124m]!\u001b[39m\u001b[38;5;124m\"\u001b[39m\u001b[38;5;241m.\u001b[39mformat(field))\n\u001b[1;32m     55\u001b[0m     shape \u001b[38;5;241m=\u001b[39m \u001b[38;5;28mlist\u001b[39m(f[group][field]\u001b[38;5;241m.\u001b[39mshape)\n\u001b[1;32m     56\u001b[0m     shape[\u001b[38;5;241m0\u001b[39m] \u001b[38;5;241m=\u001b[39m np\u001b[38;5;241m.\u001b[39msum(n_init)\n",
      "\u001b[0;31mException\u001b[0m: Catalog does not have requested field [LinkproptoGalprop_Snapshot]!"
     ]
    }
   ],
   "source": [
    "galprop_res_snap = scsample.histcat.crossmatch_snapshot_galprop(basePath, snap_num, subvolumes) #, galprop_fields=galprop_fields)\n",
    "galprop_res_snap['GalpropBirthHaloID']"
   ]
  },
  {
   "cell_type": "code",
   "execution_count": null,
   "id": "95dad2db-301b-41e2-b5ff-3dd46e724716",
   "metadata": {},
   "outputs": [],
   "source": []
  },
  {
   "cell_type": "code",
   "execution_count": null,
   "id": "b83de7fd-804c-4a9d-92e8-418df3b5cdd5",
   "metadata": {},
   "outputs": [],
   "source": [
    "f_rec = 0.43 \n",
    "\n",
    "\n",
    "mstar = ilsam.groupcat.load_galprop(basePath, [0, 0, 0])['GalpropMstar']\n",
    "\n",
    "fig, ax = plt.subplots(1, 1) \n",
    "\n",
    "ax.scatter(np.log10(sfh_res['HistpropSFH'].sum(axis=1) * 1e9 * (1 - f_rec)  ), \n",
    "            np.log10(1e9*galprop_res['GalpropMstar']), \n",
    "           s = 0.1)\n",
    "\n",
    "\n",
    "ax.scatter(np.log10(sfh_res['HistpropSFH'].sum(axis=1) * 1e9  * (1 - f_rec) ), \n",
    "            np.log10(1e9*mstar[mstar * 1e9 >= 1e9]), \n",
    "           s = 0.1)\n",
    "\n",
    "ax.plot([8, 12], [8, 12], ls='--', c='black') \n",
    "ax.set_xlim(8, 12)\n",
    "ax.set_ylim(8, 12) \n",
    "\n",
    "ax.set_xlabel(r'$ \\log_{10} \\Sigma({\\rm SFH}) \\, [M_\\odot] $')\n",
    "ax.set_ylabel(r'$\\log_{10} m_{*} \\, [M_\\odot]$')"
   ]
  },
  {
   "cell_type": "code",
   "execution_count": null,
   "id": "92339c92-0810-4877-8494-286fd5284fa4",
   "metadata": {},
   "outputs": [],
   "source": [
    "f_rec = 0.43 \n",
    "\n",
    "fig, ax = plt.subplots(1, 1, figsize=(5, 5)) \n",
    "\n",
    "ax.scatter(np.log10(sfh_res_snap['HistpropSFH'].sum(axis=1) * 1e9 * (1 - f_rec) ), \n",
    "            np.log10(1e9*galprop_res_snap['GalpropMstar']), \n",
    "           s = 0.1, alpha=0.1, c='black')\n",
    "\n",
    "ax.plot([8, 12], [8, 12], ls='--', c='black') \n",
    "ax.set_xlim(7, 12)\n",
    "ax.set_ylim(8.5, 12) \n",
    "\n",
    "ax.set_xlabel(r'$ \\log_{10} m_{*, \\rm SFH} = (1 - f_{\\rm rec}) \\Sigma({\\rm SFH}) \\, [M_\\odot] $', fontsize=14)\n",
    "ax.set_ylabel(r'$\\log_{10} m_{*, \\rm galprop} \\, [M_\\odot]$', fontsize=14)"
   ]
  },
  {
   "cell_type": "markdown",
   "id": "839fa25e-0c65-48d4-8eee-d5093c5baed7",
   "metadata": {},
   "source": [
    "# Interfacing SFHs with FSPS "
   ]
  },
  {
   "cell_type": "markdown",
   "id": "883e54de-92cf-485e-b196-57cd66b517bd",
   "metadata": {},
   "source": [
    "more to come ... "
   ]
  },
  {
   "cell_type": "markdown",
   "id": "0e8963e0-35de-435c-9693-7ceaa93b8bbb",
   "metadata": {},
   "source": [
    "# Interfacing SFHs with Synthesizer "
   ]
  },
  {
   "cell_type": "markdown",
   "id": "463715c5-6d80-45a9-ae28-9a51ce09483f",
   "metadata": {},
   "source": [
    "more to come ..."
   ]
  },
  {
   "cell_type": "code",
   "execution_count": null,
   "id": "18399c0f-d4fb-48ef-bb1d-980edbeda01a",
   "metadata": {},
   "outputs": [],
   "source": []
  }
 ],
 "metadata": {
  "kernelspec": {
   "display_name": "mykernel3.8",
   "language": "python",
   "name": "mykernel3.8"
  },
  "language_info": {
   "codemirror_mode": {
    "name": "ipython",
    "version": 3
   },
   "file_extension": ".py",
   "mimetype": "text/x-python",
   "name": "python",
   "nbconvert_exporter": "python",
   "pygments_lexer": "ipython3",
   "version": "3.8.16"
  }
 },
 "nbformat": 4,
 "nbformat_minor": 5
}
