{
 "cells": [
  {
   "cell_type": "code",
   "execution_count": 1,
   "id": "333b3afa-18f8-4e8f-aba8-1a76d430878e",
   "metadata": {
    "tags": []
   },
   "outputs": [],
   "source": [
    "%matplotlib inline\n",
    "import matplotlib.pyplot as plt\n",
    "\n",
    "import site\n",
    "import numpy as np\n",
    "import pandas as pd"
   ]
  },
  {
   "cell_type": "code",
   "execution_count": 2,
   "id": "d20ba480-8605-4c0d-b0a8-a65d672a8190",
   "metadata": {
    "tags": []
   },
   "outputs": [],
   "source": [
    "site.addsitedir('/mnt/home/agabrielpillai/github/') \n",
    "import illustris_sam as ilsam"
   ]
  },
  {
   "cell_type": "code",
   "execution_count": 3,
   "id": "160ca471-9ec1-4c31-bd97-26c19d362713",
   "metadata": {
    "tags": []
   },
   "outputs": [],
   "source": [
    "basePath = '/mnt/ceph/users/agabrielpillai/camels_sam/hdf5/CV/CV_0/'"
   ]
  },
  {
   "cell_type": "code",
   "execution_count": 4,
   "id": "0911709b-90fd-4a78-8368-1c1c94ee8f85",
   "metadata": {
    "tags": []
   },
   "outputs": [],
   "source": [
    "def genFullSubvolumes(n):\n",
    "    subvolume_list = []\n",
    "\n",
    "    for i in range(n):\n",
    "        for j in range(n):\n",
    "            for k in range(n):\n",
    "                subvolume_list.append([i, j, k])\n",
    "\n",
    "    return subvolume_list"
   ]
  },
  {
   "cell_type": "code",
   "execution_count": 9,
   "id": "9cc6b28a-be11-4ecd-ae68-a46d32cf1452",
   "metadata": {
    "tags": []
   },
   "outputs": [],
   "source": [
    "galprop_fields = ['GalpropHaloIndex_Snapshot', 'GalpropMvir', 'GalpropRhalo', \n",
    "                  'GalpropMstar', 'GalpropSatType', 'GalpropPos',\n",
    "'GalpropRfric']"
   ]
  },
  {
   "cell_type": "code",
   "execution_count": 10,
   "id": "410bb6d0-ffd3-44fe-be20-5ddc8a1a69b5",
   "metadata": {
    "tags": []
   },
   "outputs": [],
   "source": [
    "SAM_subhalos_99 = ilsam.groupcat.load_snapshot_subhalos(basePath, 99, genFullSubvolumes(2), \n",
    "                                                        fields=galprop_fields)\n",
    "# SAM_halos_99 = ilsam.groupcat.load_snapshot_halos(basePath, 99, genFullSubvolumes(2), \n",
    "#                                                   fields=['HalopropIndex_Snapshot', 'HalopropMvir'])"
   ]
  },
  {
   "cell_type": "code",
   "execution_count": 12,
   "id": "24d83187-2d93-409e-a354-f36666f12b91",
   "metadata": {
    "tags": []
   },
   "outputs": [],
   "source": [
    "import pandas as pd "
   ]
  },
  {
   "cell_type": "code",
   "execution_count": 35,
   "id": "30c85f2d-cb36-41ab-ac6c-ac63f40757e1",
   "metadata": {
    "tags": []
   },
   "outputs": [],
   "source": [
    "df = pd.DataFrame()\n",
    "\n",
    "for key in list(SAM_subhalos_99.keys())[:-1]:\n",
    "    if len(SAM_subhalos_99[key].shape) == 1: \n",
    "        df[key] = SAM_subhalos_99[key]"
   ]
  },
  {
   "cell_type": "code",
   "execution_count": 69,
   "id": "59873c29-d69f-465c-b854-a463c398d068",
   "metadata": {
    "tags": []
   },
   "outputs": [],
   "source": [
    "df_sats = df[df['GalpropSatType'] != 0].reset_index(drop=True)\n",
    "df_cens = df[df['GalpropSatType'] == 0].reset_index(drop=True)"
   ]
  },
  {
   "cell_type": "code",
   "execution_count": 70,
   "id": "859fbe1b-0be7-4013-9653-9dc964d27869",
   "metadata": {
    "tags": []
   },
   "outputs": [
    {
     "data": {
      "text/plain": [
       "0         4.154116\n",
       "1         4.926264\n",
       "2         4.125754\n",
       "3         5.556596\n",
       "4        12.769183\n",
       "           ...    \n",
       "39746     1.734615\n",
       "39747     1.504271\n",
       "39748     0.916796\n",
       "39749     1.190999\n",
       "39750     0.855941\n",
       "Length: 39751, dtype: float32"
      ]
     },
     "execution_count": 70,
     "metadata": {},
     "output_type": "execute_result"
    }
   ],
   "source": [
    "df_sats['GalpropRfric'] / df_sats['GalpropRhalo']"
   ]
  },
  {
   "cell_type": "code",
   "execution_count": 46,
   "id": "209159fd-644f-44b3-925e-71f6e45893f1",
   "metadata": {
    "tags": []
   },
   "outputs": [
    {
     "data": {
      "text/plain": [
       "19        0.195619\n",
       "20        0.262428\n",
       "21        0.282464\n",
       "22        0.696236\n",
       "23        0.664968\n",
       "            ...   \n",
       "164392    0.126297\n",
       "164407    0.117998\n",
       "164441    0.086651\n",
       "164475    0.104475\n",
       "164482    0.082514\n",
       "Name: GalpropRfric, Length: 39751, dtype: float32"
      ]
     },
     "execution_count": 46,
     "metadata": {},
     "output_type": "execute_result"
    }
   ],
   "source": [
    "df_sats['GalpropRfric']"
   ]
  },
  {
   "cell_type": "code",
   "execution_count": 47,
   "id": "35e66533-4ed8-47bd-99a4-2f0ca296fa8f",
   "metadata": {
    "tags": []
   },
   "outputs": [
    {
     "data": {
      "text/plain": [
       "19        0.047090\n",
       "20        0.053271\n",
       "21        0.068464\n",
       "22        0.125299\n",
       "23        0.052076\n",
       "            ...   \n",
       "164392    0.072810\n",
       "164407    0.078442\n",
       "164441    0.094516\n",
       "164475    0.087720\n",
       "164482    0.096402\n",
       "Name: GalpropRhalo, Length: 39751, dtype: float32"
      ]
     },
     "execution_count": 47,
     "metadata": {},
     "output_type": "execute_result"
    }
   ],
   "source": [
    "df_sats['GalpropRhalo']"
   ]
  },
  {
   "cell_type": "code",
   "execution_count": 48,
   "id": "1552e59e-02de-48cf-8cfb-b777236d685e",
   "metadata": {
    "tags": []
   },
   "outputs": [
    {
     "data": {
      "text/html": [
       "<div>\n",
       "<style scoped>\n",
       "    .dataframe tbody tr th:only-of-type {\n",
       "        vertical-align: middle;\n",
       "    }\n",
       "\n",
       "    .dataframe tbody tr th {\n",
       "        vertical-align: top;\n",
       "    }\n",
       "\n",
       "    .dataframe thead th {\n",
       "        text-align: right;\n",
       "    }\n",
       "</style>\n",
       "<table border=\"1\" class=\"dataframe\">\n",
       "  <thead>\n",
       "    <tr style=\"text-align: right;\">\n",
       "      <th></th>\n",
       "      <th>GalpropHaloIndex_Snapshot</th>\n",
       "      <th>GalpropMvir</th>\n",
       "      <th>GalpropRhalo</th>\n",
       "      <th>GalpropMstar</th>\n",
       "      <th>GalpropSatType</th>\n",
       "      <th>GalpropRfric</th>\n",
       "      <th>GalpropSnapNum</th>\n",
       "    </tr>\n",
       "  </thead>\n",
       "  <tbody>\n",
       "    <tr>\n",
       "      <th>19</th>\n",
       "      <td>18</td>\n",
       "      <td>43.450401</td>\n",
       "      <td>0.047090</td>\n",
       "      <td>0.191630</td>\n",
       "      <td>1.0</td>\n",
       "      <td>0.195619</td>\n",
       "      <td>99.0</td>\n",
       "    </tr>\n",
       "    <tr>\n",
       "      <th>20</th>\n",
       "      <td>18</td>\n",
       "      <td>38.529598</td>\n",
       "      <td>0.053271</td>\n",
       "      <td>0.105563</td>\n",
       "      <td>1.0</td>\n",
       "      <td>0.262428</td>\n",
       "      <td>99.0</td>\n",
       "    </tr>\n",
       "    <tr>\n",
       "      <th>21</th>\n",
       "      <td>18</td>\n",
       "      <td>72.213699</td>\n",
       "      <td>0.068464</td>\n",
       "      <td>0.224593</td>\n",
       "      <td>1.0</td>\n",
       "      <td>0.282464</td>\n",
       "      <td>99.0</td>\n",
       "    </tr>\n",
       "    <tr>\n",
       "      <th>22</th>\n",
       "      <td>18</td>\n",
       "      <td>493.316986</td>\n",
       "      <td>0.125299</td>\n",
       "      <td>26.097799</td>\n",
       "      <td>2.0</td>\n",
       "      <td>0.696236</td>\n",
       "      <td>99.0</td>\n",
       "    </tr>\n",
       "    <tr>\n",
       "      <th>23</th>\n",
       "      <td>18</td>\n",
       "      <td>32.201500</td>\n",
       "      <td>0.052076</td>\n",
       "      <td>0.107515</td>\n",
       "      <td>2.0</td>\n",
       "      <td>0.664968</td>\n",
       "      <td>99.0</td>\n",
       "    </tr>\n",
       "    <tr>\n",
       "      <th>...</th>\n",
       "      <td>...</td>\n",
       "      <td>...</td>\n",
       "      <td>...</td>\n",
       "      <td>...</td>\n",
       "      <td>...</td>\n",
       "      <td>...</td>\n",
       "      <td>...</td>\n",
       "    </tr>\n",
       "    <tr>\n",
       "      <th>164392</th>\n",
       "      <td>124645</td>\n",
       "      <td>33.289001</td>\n",
       "      <td>0.072810</td>\n",
       "      <td>0.035662</td>\n",
       "      <td>1.0</td>\n",
       "      <td>0.126297</td>\n",
       "      <td>99.0</td>\n",
       "    </tr>\n",
       "    <tr>\n",
       "      <th>164407</th>\n",
       "      <td>124659</td>\n",
       "      <td>32.196602</td>\n",
       "      <td>0.078442</td>\n",
       "      <td>0.037764</td>\n",
       "      <td>1.0</td>\n",
       "      <td>0.117998</td>\n",
       "      <td>99.0</td>\n",
       "    </tr>\n",
       "    <tr>\n",
       "      <th>164441</th>\n",
       "      <td>124692</td>\n",
       "      <td>52.519501</td>\n",
       "      <td>0.094516</td>\n",
       "      <td>0.081776</td>\n",
       "      <td>1.0</td>\n",
       "      <td>0.086651</td>\n",
       "      <td>99.0</td>\n",
       "    </tr>\n",
       "    <tr>\n",
       "      <th>164475</th>\n",
       "      <td>124725</td>\n",
       "      <td>37.668598</td>\n",
       "      <td>0.087720</td>\n",
       "      <td>0.072250</td>\n",
       "      <td>1.0</td>\n",
       "      <td>0.104475</td>\n",
       "      <td>99.0</td>\n",
       "    </tr>\n",
       "    <tr>\n",
       "      <th>164482</th>\n",
       "      <td>124731</td>\n",
       "      <td>53.296902</td>\n",
       "      <td>0.096402</td>\n",
       "      <td>0.083602</td>\n",
       "      <td>1.0</td>\n",
       "      <td>0.082514</td>\n",
       "      <td>99.0</td>\n",
       "    </tr>\n",
       "  </tbody>\n",
       "</table>\n",
       "<p>39751 rows × 7 columns</p>\n",
       "</div>"
      ],
      "text/plain": [
       "        GalpropHaloIndex_Snapshot  GalpropMvir  GalpropRhalo  GalpropMstar  \\\n",
       "19                             18    43.450401      0.047090      0.191630   \n",
       "20                             18    38.529598      0.053271      0.105563   \n",
       "21                             18    72.213699      0.068464      0.224593   \n",
       "22                             18   493.316986      0.125299     26.097799   \n",
       "23                             18    32.201500      0.052076      0.107515   \n",
       "...                           ...          ...           ...           ...   \n",
       "164392                     124645    33.289001      0.072810      0.035662   \n",
       "164407                     124659    32.196602      0.078442      0.037764   \n",
       "164441                     124692    52.519501      0.094516      0.081776   \n",
       "164475                     124725    37.668598      0.087720      0.072250   \n",
       "164482                     124731    53.296902      0.096402      0.083602   \n",
       "\n",
       "        GalpropSatType  GalpropRfric  GalpropSnapNum  \n",
       "19                 1.0      0.195619            99.0  \n",
       "20                 1.0      0.262428            99.0  \n",
       "21                 1.0      0.282464            99.0  \n",
       "22                 2.0      0.696236            99.0  \n",
       "23                 2.0      0.664968            99.0  \n",
       "...                ...           ...             ...  \n",
       "164392             1.0      0.126297            99.0  \n",
       "164407             1.0      0.117998            99.0  \n",
       "164441             1.0      0.086651            99.0  \n",
       "164475             1.0      0.104475            99.0  \n",
       "164482             1.0      0.082514            99.0  \n",
       "\n",
       "[39751 rows x 7 columns]"
      ]
     },
     "execution_count": 48,
     "metadata": {},
     "output_type": "execute_result"
    }
   ],
   "source": [
    "df_sats"
   ]
  },
  {
   "cell_type": "code",
   "execution_count": 64,
   "id": "fbe69ba4-9784-4365-8660-db2f0733a435",
   "metadata": {
    "tags": []
   },
   "outputs": [],
   "source": [
    "ids = np.unique(df_sats['GalpropHaloIndex_Snapshot'])"
   ]
  },
  {
   "cell_type": "code",
   "execution_count": 110,
   "id": "9bb141e5-8b60-4a19-a9f7-acf20eaf8fbd",
   "metadata": {
    "tags": []
   },
   "outputs": [
    {
     "data": {
      "text/plain": [
       "array([0.        , 0.01515152, 0.03030303, 0.04545455, 0.06060606,\n",
       "       0.07575758, 0.09090909, 0.10606061, 0.12121212, 0.13636364,\n",
       "       0.15151515, 0.16666667, 0.18181818, 0.1969697 , 0.21212121,\n",
       "       0.22727273, 0.24242424, 0.25757576, 0.27272727, 0.28787879,\n",
       "       0.3030303 , 0.31818182, 0.33333333, 0.34848485, 0.36363636,\n",
       "       0.37878788, 0.39393939, 0.40909091, 0.42424242, 0.43939394,\n",
       "       0.45454545, 0.46969697, 0.48484848, 0.5       , 0.51515152,\n",
       "       0.53030303, 0.54545455, 0.56060606, 0.57575758, 0.59090909,\n",
       "       0.60606061, 0.62121212, 0.63636364, 0.65151515, 0.66666667,\n",
       "       0.68181818, 0.6969697 , 0.71212121, 0.72727273, 0.74242424,\n",
       "       0.75757576, 0.77272727, 0.78787879, 0.8030303 , 0.81818182,\n",
       "       0.83333333, 0.84848485, 0.86363636, 0.87878788, 0.89393939,\n",
       "       0.90909091, 0.92424242, 0.93939394, 0.95454545, 0.96969697,\n",
       "       0.98484848, 1.        , 1.01515152, 1.03030303, 1.04545455,\n",
       "       1.06060606, 1.07575758, 1.09090909, 1.10606061, 1.12121212,\n",
       "       1.13636364, 1.15151515, 1.16666667, 1.18181818, 1.1969697 ,\n",
       "       1.21212121, 1.22727273, 1.24242424, 1.25757576, 1.27272727,\n",
       "       1.28787879, 1.3030303 , 1.31818182, 1.33333333, 1.34848485,\n",
       "       1.36363636, 1.37878788, 1.39393939, 1.40909091, 1.42424242,\n",
       "       1.43939394, 1.45454545, 1.46969697, 1.48484848, 1.5       ])"
      ]
     },
     "execution_count": 110,
     "metadata": {},
     "output_type": "execute_result"
    }
   ],
   "source": [
    "np.linspace(0, 1.5, 100)"
   ]
  },
  {
   "cell_type": "code",
   "execution_count": 132,
   "id": "dca70e50-2a6e-4f7d-8925-365da4f8a594",
   "metadata": {
    "tags": []
   },
   "outputs": [],
   "source": [
    "pile = np.zeros(499)\n",
    "bins = np.linspace(0, 1.5, 500)\n",
    "for i in range(ids.shape[0]): \n",
    "    pile = pile + np.histogram(df_sats[df_sats['GalpropHaloIndex_Snapshot'] == ids[i]]['GalpropRfric'] / df_cens[df_cens['GalpropHaloIndex_Snapshot'] == ids[i]].reset_index(drop=True)['GalpropRhalo'][0], bins=bins)[0]"
   ]
  },
  {
   "cell_type": "code",
   "execution_count": 133,
   "id": "b5fcc868-40c8-4355-b51b-12ecdba38778",
   "metadata": {
    "tags": []
   },
   "outputs": [
    {
     "data": {
      "text/plain": [
       "<matplotlib.patches.StepPatch at 0x15550010fd00>"
      ]
     },
     "execution_count": 133,
     "metadata": {},
     "output_type": "execute_result"
    },
    {
     "data": {
      "image/png": "[encoded data removed]",
      "text/plain": [
       "<Figure size 640x480 with 1 Axes>"
      ]
     },
     "metadata": {},
     "output_type": "display_data"
    }
   ],
   "source": [
    "plt.stairs((pile), bins)"
   ]
  },
  {
   "cell_type": "code",
   "execution_count": 134,
   "id": "22a8e725-1f97-4857-9951-2ddbfd53e3f8",
   "metadata": {
    "tags": []
   },
   "outputs": [
    {
     "name": "stderr",
     "output_type": "stream",
     "text": [
      "/tmp/ipykernel_1019504/3187026794.py:1: RuntimeWarning: divide by zero encountered in log10\n",
      "  plt.stairs(np.log10(pile), bins)\n"
     ]
    },
    {
     "data": {
      "text/plain": [
       "<matplotlib.patches.StepPatch at 0x155501926650>"
      ]
     },
     "execution_count": 134,
     "metadata": {},
     "output_type": "execute_result"
    },
    {
     "data": {
      "image/png": "[encoded data removed]",
      "text/plain": [
       "<Figure size 640x480 with 1 Axes>"
      ]
     },
     "metadata": {},
     "output_type": "display_data"
    }
   ],
   "source": [
    "plt.stairs(np.log10(pile), bins)"
   ]
  },
  {
   "cell_type": "code",
   "execution_count": 107,
   "id": "aa730378-61ad-4644-bd0f-6c481a0b6f4d",
   "metadata": {
    "tags": []
   },
   "outputs": [
    {
     "data": {
      "image/png": "[encoded data removed]",
      "text/plain": [
       "<Figure size 640x480 with 1 Axes>"
      ]
     },
     "metadata": {},
     "output_type": "display_data"
    }
   ],
   "source": [
    "for i in range(0, 1000): \n",
    "               plt.hist(df_sats[df_sats['GalpropHaloIndex_Snapshot'] == ids[i]]['GalpropRfric'] / df_cens[df_cens['GalpropHaloIndex_Snapshot'] == ids[i]].reset_index(drop=True)['GalpropRhalo'][0], bins=np.linspace(0, 1.5), alpha=0.4)\n",
    "        \n",
    "        "
   ]
  },
  {
   "cell_type": "code",
   "execution_count": 93,
   "id": "e6126745-0316-4766-957a-8fbdc6d66173",
   "metadata": {
    "tags": []
   },
   "outputs": [
    {
     "data": {
      "text/plain": [
       "0.758326"
      ]
     },
     "execution_count": 93,
     "metadata": {},
     "output_type": "execute_result"
    }
   ],
   "source": [
    "df_cens[df_cens['GalpropHaloIndex_Snapshot'] == ids[0]].reset_index(drop=True)['GalpropRhalo'][0]"
   ]
  },
  {
   "cell_type": "code",
   "execution_count": 90,
   "id": "dcb1b4b9-fcf6-4c96-8e95-09b89e670b70",
   "metadata": {
    "tags": []
   },
   "outputs": [
    {
     "ename": "ValueError",
     "evalue": "Length of values (17) does not match length of index (1)",
     "output_type": "error",
     "traceback": [
      "\u001b[0;31m---------------------------------------------------------------------------\u001b[0m",
      "\u001b[0;31mValueError\u001b[0m                                Traceback (most recent call last)",
      "Cell \u001b[0;32mIn[90], line 1\u001b[0m\n\u001b[0;32m----> 1\u001b[0m \u001b[43mdf_sats\u001b[49m\u001b[43m[\u001b[49m\u001b[43mdf_sats\u001b[49m\u001b[43m[\u001b[49m\u001b[38;5;124;43m'\u001b[39;49m\u001b[38;5;124;43mGalpropHaloIndex_Snapshot\u001b[39;49m\u001b[38;5;124;43m'\u001b[39;49m\u001b[43m]\u001b[49m\u001b[43m \u001b[49m\u001b[38;5;241;43m==\u001b[39;49m\u001b[43m \u001b[49m\u001b[43mids\u001b[49m\u001b[43m[\u001b[49m\u001b[38;5;241;43m0\u001b[39;49m\u001b[43m]\u001b[49m\u001b[43m]\u001b[49m\u001b[43m[\u001b[49m\u001b[38;5;124;43m'\u001b[39;49m\u001b[38;5;124;43mGalpropRfric\u001b[39;49m\u001b[38;5;124;43m'\u001b[39;49m\u001b[43m]\u001b[49m\u001b[38;5;241;43m.\u001b[39;49m\u001b[43mto_numpy\u001b[49m\u001b[43m(\u001b[49m\u001b[43m)\u001b[49m\u001b[43m \u001b[49m\u001b[38;5;241;43m/\u001b[39;49m\u001b[43m \u001b[49m\u001b[43mdf_cens\u001b[49m\u001b[43m[\u001b[49m\u001b[43mdf_cens\u001b[49m\u001b[43m[\u001b[49m\u001b[38;5;124;43m'\u001b[39;49m\u001b[38;5;124;43mGalpropHaloIndex_Snapshot\u001b[39;49m\u001b[38;5;124;43m'\u001b[39;49m\u001b[43m]\u001b[49m\u001b[43m \u001b[49m\u001b[38;5;241;43m==\u001b[39;49m\u001b[43m \u001b[49m\u001b[43mids\u001b[49m\u001b[43m[\u001b[49m\u001b[38;5;241;43m0\u001b[39;49m\u001b[43m]\u001b[49m\u001b[43m]\u001b[49m\u001b[43m[\u001b[49m\u001b[38;5;124;43m'\u001b[39;49m\u001b[38;5;124;43mGalpropRhalo\u001b[39;49m\u001b[38;5;124;43m'\u001b[39;49m\u001b[43m]\u001b[49m\n",
      "File \u001b[0;32m/mnt/sw/nix/store/gpkc8q6zjnp3n3h3w9hbmbj6gjbxs85w-python-3.10.10-view/lib/python3.10/site-packages/pandas/core/generic.py:2016\u001b[0m, in \u001b[0;36mNDFrame.__array_ufunc__\u001b[0;34m(self, ufunc, method, *inputs, **kwargs)\u001b[0m\n\u001b[1;32m   2012\u001b[0m \u001b[38;5;129m@final\u001b[39m\n\u001b[1;32m   2013\u001b[0m \u001b[38;5;28;01mdef\u001b[39;00m \u001b[38;5;21m__array_ufunc__\u001b[39m(\n\u001b[1;32m   2014\u001b[0m     \u001b[38;5;28mself\u001b[39m, ufunc: np\u001b[38;5;241m.\u001b[39mufunc, method: \u001b[38;5;28mstr\u001b[39m, \u001b[38;5;241m*\u001b[39minputs: Any, \u001b[38;5;241m*\u001b[39m\u001b[38;5;241m*\u001b[39mkwargs: Any\n\u001b[1;32m   2015\u001b[0m ):\n\u001b[0;32m-> 2016\u001b[0m     \u001b[38;5;28;01mreturn\u001b[39;00m \u001b[43marraylike\u001b[49m\u001b[38;5;241;43m.\u001b[39;49m\u001b[43marray_ufunc\u001b[49m\u001b[43m(\u001b[49m\u001b[38;5;28;43mself\u001b[39;49m\u001b[43m,\u001b[49m\u001b[43m \u001b[49m\u001b[43mufunc\u001b[49m\u001b[43m,\u001b[49m\u001b[43m \u001b[49m\u001b[43mmethod\u001b[49m\u001b[43m,\u001b[49m\u001b[43m \u001b[49m\u001b[38;5;241;43m*\u001b[39;49m\u001b[43minputs\u001b[49m\u001b[43m,\u001b[49m\u001b[43m \u001b[49m\u001b[38;5;241;43m*\u001b[39;49m\u001b[38;5;241;43m*\u001b[39;49m\u001b[43mkwargs\u001b[49m\u001b[43m)\u001b[49m\n",
      "File \u001b[0;32m/mnt/sw/nix/store/gpkc8q6zjnp3n3h3w9hbmbj6gjbxs85w-python-3.10.10-view/lib/python3.10/site-packages/pandas/core/arraylike.py:273\u001b[0m, in \u001b[0;36marray_ufunc\u001b[0;34m(self, ufunc, method, *inputs, **kwargs)\u001b[0m\n\u001b[1;32m    270\u001b[0m kwargs \u001b[38;5;241m=\u001b[39m _standardize_out_kwarg(\u001b[38;5;241m*\u001b[39m\u001b[38;5;241m*\u001b[39mkwargs)\n\u001b[1;32m    272\u001b[0m \u001b[38;5;66;03m# for binary ops, use our custom dunder methods\u001b[39;00m\n\u001b[0;32m--> 273\u001b[0m result \u001b[38;5;241m=\u001b[39m \u001b[43mmaybe_dispatch_ufunc_to_dunder_op\u001b[49m\u001b[43m(\u001b[49m\u001b[38;5;28;43mself\u001b[39;49m\u001b[43m,\u001b[49m\u001b[43m \u001b[49m\u001b[43mufunc\u001b[49m\u001b[43m,\u001b[49m\u001b[43m \u001b[49m\u001b[43mmethod\u001b[49m\u001b[43m,\u001b[49m\u001b[43m \u001b[49m\u001b[38;5;241;43m*\u001b[39;49m\u001b[43minputs\u001b[49m\u001b[43m,\u001b[49m\u001b[43m \u001b[49m\u001b[38;5;241;43m*\u001b[39;49m\u001b[38;5;241;43m*\u001b[39;49m\u001b[43mkwargs\u001b[49m\u001b[43m)\u001b[49m\n\u001b[1;32m    274\u001b[0m \u001b[38;5;28;01mif\u001b[39;00m result \u001b[38;5;129;01mis\u001b[39;00m \u001b[38;5;129;01mnot\u001b[39;00m \u001b[38;5;28mNotImplemented\u001b[39m:\n\u001b[1;32m    275\u001b[0m     \u001b[38;5;28;01mreturn\u001b[39;00m result\n",
      "File \u001b[0;32m/mnt/sw/nix/store/gpkc8q6zjnp3n3h3w9hbmbj6gjbxs85w-python-3.10.10-view/lib/python3.10/site-packages/pandas/_libs/ops_dispatch.pyx:113\u001b[0m, in \u001b[0;36mpandas._libs.ops_dispatch.maybe_dispatch_ufunc_to_dunder_op\u001b[0;34m()\u001b[0m\n",
      "File \u001b[0;32m/mnt/sw/nix/store/gpkc8q6zjnp3n3h3w9hbmbj6gjbxs85w-python-3.10.10-view/lib/python3.10/site-packages/pandas/core/ops/common.py:81\u001b[0m, in \u001b[0;36m_unpack_zerodim_and_defer.<locals>.new_method\u001b[0;34m(self, other)\u001b[0m\n\u001b[1;32m     77\u001b[0m             \u001b[38;5;28;01mreturn\u001b[39;00m \u001b[38;5;28mNotImplemented\u001b[39m\n\u001b[1;32m     79\u001b[0m other \u001b[38;5;241m=\u001b[39m item_from_zerodim(other)\n\u001b[0;32m---> 81\u001b[0m \u001b[38;5;28;01mreturn\u001b[39;00m \u001b[43mmethod\u001b[49m\u001b[43m(\u001b[49m\u001b[38;5;28;43mself\u001b[39;49m\u001b[43m,\u001b[49m\u001b[43m \u001b[49m\u001b[43mother\u001b[49m\u001b[43m)\u001b[49m\n",
      "File \u001b[0;32m/mnt/sw/nix/store/gpkc8q6zjnp3n3h3w9hbmbj6gjbxs85w-python-3.10.10-view/lib/python3.10/site-packages/pandas/core/arraylike.py:214\u001b[0m, in \u001b[0;36mOpsMixin.__rtruediv__\u001b[0;34m(self, other)\u001b[0m\n\u001b[1;32m    212\u001b[0m \u001b[38;5;129m@unpack_zerodim_and_defer\u001b[39m(\u001b[38;5;124m\"\u001b[39m\u001b[38;5;124m__rtruediv__\u001b[39m\u001b[38;5;124m\"\u001b[39m)\n\u001b[1;32m    213\u001b[0m \u001b[38;5;28;01mdef\u001b[39;00m \u001b[38;5;21m__rtruediv__\u001b[39m(\u001b[38;5;28mself\u001b[39m, other):\n\u001b[0;32m--> 214\u001b[0m     \u001b[38;5;28;01mreturn\u001b[39;00m \u001b[38;5;28;43mself\u001b[39;49m\u001b[38;5;241;43m.\u001b[39;49m\u001b[43m_arith_method\u001b[49m\u001b[43m(\u001b[49m\u001b[43mother\u001b[49m\u001b[43m,\u001b[49m\u001b[43m \u001b[49m\u001b[43mroperator\u001b[49m\u001b[38;5;241;43m.\u001b[39;49m\u001b[43mrtruediv\u001b[49m\u001b[43m)\u001b[49m\n",
      "File \u001b[0;32m/mnt/sw/nix/store/gpkc8q6zjnp3n3h3w9hbmbj6gjbxs85w-python-3.10.10-view/lib/python3.10/site-packages/pandas/core/series.py:6112\u001b[0m, in \u001b[0;36mSeries._arith_method\u001b[0;34m(self, other, op)\u001b[0m\n\u001b[1;32m   6110\u001b[0m \u001b[38;5;28;01mdef\u001b[39;00m \u001b[38;5;21m_arith_method\u001b[39m(\u001b[38;5;28mself\u001b[39m, other, op):\n\u001b[1;32m   6111\u001b[0m     \u001b[38;5;28mself\u001b[39m, other \u001b[38;5;241m=\u001b[39m ops\u001b[38;5;241m.\u001b[39malign_method_SERIES(\u001b[38;5;28mself\u001b[39m, other)\n\u001b[0;32m-> 6112\u001b[0m     \u001b[38;5;28;01mreturn\u001b[39;00m \u001b[43mbase\u001b[49m\u001b[38;5;241;43m.\u001b[39;49m\u001b[43mIndexOpsMixin\u001b[49m\u001b[38;5;241;43m.\u001b[39;49m\u001b[43m_arith_method\u001b[49m\u001b[43m(\u001b[49m\u001b[38;5;28;43mself\u001b[39;49m\u001b[43m,\u001b[49m\u001b[43m \u001b[49m\u001b[43mother\u001b[49m\u001b[43m,\u001b[49m\u001b[43m \u001b[49m\u001b[43mop\u001b[49m\u001b[43m)\u001b[49m\n",
      "File \u001b[0;32m/mnt/sw/nix/store/gpkc8q6zjnp3n3h3w9hbmbj6gjbxs85w-python-3.10.10-view/lib/python3.10/site-packages/pandas/core/base.py:1350\u001b[0m, in \u001b[0;36mIndexOpsMixin._arith_method\u001b[0;34m(self, other, op)\u001b[0m\n\u001b[1;32m   1347\u001b[0m \u001b[38;5;28;01mwith\u001b[39;00m np\u001b[38;5;241m.\u001b[39merrstate(\u001b[38;5;28mall\u001b[39m\u001b[38;5;241m=\u001b[39m\u001b[38;5;124m\"\u001b[39m\u001b[38;5;124mignore\u001b[39m\u001b[38;5;124m\"\u001b[39m):\n\u001b[1;32m   1348\u001b[0m     result \u001b[38;5;241m=\u001b[39m ops\u001b[38;5;241m.\u001b[39marithmetic_op(lvalues, rvalues, op)\n\u001b[0;32m-> 1350\u001b[0m \u001b[38;5;28;01mreturn\u001b[39;00m \u001b[38;5;28;43mself\u001b[39;49m\u001b[38;5;241;43m.\u001b[39;49m\u001b[43m_construct_result\u001b[49m\u001b[43m(\u001b[49m\u001b[43mresult\u001b[49m\u001b[43m,\u001b[49m\u001b[43m \u001b[49m\u001b[43mname\u001b[49m\u001b[38;5;241;43m=\u001b[39;49m\u001b[43mres_name\u001b[49m\u001b[43m)\u001b[49m\n",
      "File \u001b[0;32m/mnt/sw/nix/store/gpkc8q6zjnp3n3h3w9hbmbj6gjbxs85w-python-3.10.10-view/lib/python3.10/site-packages/pandas/core/series.py:3105\u001b[0m, in \u001b[0;36mSeries._construct_result\u001b[0;34m(self, result, name)\u001b[0m\n\u001b[1;32m   3102\u001b[0m \u001b[38;5;66;03m# TODO: result should always be ArrayLike, but this fails for some\u001b[39;00m\n\u001b[1;32m   3103\u001b[0m \u001b[38;5;66;03m#  JSONArray tests\u001b[39;00m\n\u001b[1;32m   3104\u001b[0m dtype \u001b[38;5;241m=\u001b[39m \u001b[38;5;28mgetattr\u001b[39m(result, \u001b[38;5;124m\"\u001b[39m\u001b[38;5;124mdtype\u001b[39m\u001b[38;5;124m\"\u001b[39m, \u001b[38;5;28;01mNone\u001b[39;00m)\n\u001b[0;32m-> 3105\u001b[0m out \u001b[38;5;241m=\u001b[39m \u001b[38;5;28;43mself\u001b[39;49m\u001b[38;5;241;43m.\u001b[39;49m\u001b[43m_constructor\u001b[49m\u001b[43m(\u001b[49m\u001b[43mresult\u001b[49m\u001b[43m,\u001b[49m\u001b[43m \u001b[49m\u001b[43mindex\u001b[49m\u001b[38;5;241;43m=\u001b[39;49m\u001b[38;5;28;43mself\u001b[39;49m\u001b[38;5;241;43m.\u001b[39;49m\u001b[43mindex\u001b[49m\u001b[43m,\u001b[49m\u001b[43m \u001b[49m\u001b[43mdtype\u001b[49m\u001b[38;5;241;43m=\u001b[39;49m\u001b[43mdtype\u001b[49m\u001b[43m)\u001b[49m\n\u001b[1;32m   3106\u001b[0m out \u001b[38;5;241m=\u001b[39m out\u001b[38;5;241m.\u001b[39m__finalize__(\u001b[38;5;28mself\u001b[39m)\n\u001b[1;32m   3108\u001b[0m \u001b[38;5;66;03m# Set the result's name after __finalize__ is called because __finalize__\u001b[39;00m\n\u001b[1;32m   3109\u001b[0m \u001b[38;5;66;03m#  would set it back to self.name\u001b[39;00m\n",
      "File \u001b[0;32m/mnt/sw/nix/store/gpkc8q6zjnp3n3h3w9hbmbj6gjbxs85w-python-3.10.10-view/lib/python3.10/site-packages/pandas/core/series.py:500\u001b[0m, in \u001b[0;36mSeries.__init__\u001b[0;34m(self, data, index, dtype, name, copy, fastpath)\u001b[0m\n\u001b[1;32m    498\u001b[0m     index \u001b[38;5;241m=\u001b[39m default_index(\u001b[38;5;28mlen\u001b[39m(data))\n\u001b[1;32m    499\u001b[0m \u001b[38;5;28;01melif\u001b[39;00m is_list_like(data):\n\u001b[0;32m--> 500\u001b[0m     \u001b[43mcom\u001b[49m\u001b[38;5;241;43m.\u001b[39;49m\u001b[43mrequire_length_match\u001b[49m\u001b[43m(\u001b[49m\u001b[43mdata\u001b[49m\u001b[43m,\u001b[49m\u001b[43m \u001b[49m\u001b[43mindex\u001b[49m\u001b[43m)\u001b[49m\n\u001b[1;32m    502\u001b[0m \u001b[38;5;66;03m# create/copy the manager\u001b[39;00m\n\u001b[1;32m    503\u001b[0m \u001b[38;5;28;01mif\u001b[39;00m \u001b[38;5;28misinstance\u001b[39m(data, (SingleBlockManager, SingleArrayManager)):\n",
      "File \u001b[0;32m/mnt/sw/nix/store/gpkc8q6zjnp3n3h3w9hbmbj6gjbxs85w-python-3.10.10-view/lib/python3.10/site-packages/pandas/core/common.py:576\u001b[0m, in \u001b[0;36mrequire_length_match\u001b[0;34m(data, index)\u001b[0m\n\u001b[1;32m    572\u001b[0m \u001b[38;5;124;03m\"\"\"\u001b[39;00m\n\u001b[1;32m    573\u001b[0m \u001b[38;5;124;03mCheck the length of data matches the length of the index.\u001b[39;00m\n\u001b[1;32m    574\u001b[0m \u001b[38;5;124;03m\"\"\"\u001b[39;00m\n\u001b[1;32m    575\u001b[0m \u001b[38;5;28;01mif\u001b[39;00m \u001b[38;5;28mlen\u001b[39m(data) \u001b[38;5;241m!=\u001b[39m \u001b[38;5;28mlen\u001b[39m(index):\n\u001b[0;32m--> 576\u001b[0m     \u001b[38;5;28;01mraise\u001b[39;00m \u001b[38;5;167;01mValueError\u001b[39;00m(\n\u001b[1;32m    577\u001b[0m         \u001b[38;5;124m\"\u001b[39m\u001b[38;5;124mLength of values \u001b[39m\u001b[38;5;124m\"\u001b[39m\n\u001b[1;32m    578\u001b[0m         \u001b[38;5;124mf\u001b[39m\u001b[38;5;124m\"\u001b[39m\u001b[38;5;124m(\u001b[39m\u001b[38;5;132;01m{\u001b[39;00m\u001b[38;5;28mlen\u001b[39m(data)\u001b[38;5;132;01m}\u001b[39;00m\u001b[38;5;124m) \u001b[39m\u001b[38;5;124m\"\u001b[39m\n\u001b[1;32m    579\u001b[0m         \u001b[38;5;124m\"\u001b[39m\u001b[38;5;124mdoes not match length of index \u001b[39m\u001b[38;5;124m\"\u001b[39m\n\u001b[1;32m    580\u001b[0m         \u001b[38;5;124mf\u001b[39m\u001b[38;5;124m\"\u001b[39m\u001b[38;5;124m(\u001b[39m\u001b[38;5;132;01m{\u001b[39;00m\u001b[38;5;28mlen\u001b[39m(index)\u001b[38;5;132;01m}\u001b[39;00m\u001b[38;5;124m)\u001b[39m\u001b[38;5;124m\"\u001b[39m\n\u001b[1;32m    581\u001b[0m     )\n",
      "\u001b[0;31mValueError\u001b[0m: Length of values (17) does not match length of index (1)"
     ]
    }
   ],
   "source": [
    "df_sats[df_sats['GalpropHaloIndex_Snapshot'] == ids[0]]['GalpropRfric'].to_numpy() / df_cens[df_cens['GalpropHaloIndex_Snapshot'] == ids[0]]['GalpropRhalo']"
   ]
  },
  {
   "cell_type": "code",
   "execution_count": null,
   "id": "efb50274-0902-41fc-b347-49316622cde6",
   "metadata": {},
   "outputs": [],
   "source": []
  }
 ],
 "metadata": {
  "kernelspec": {
   "display_name": "kernal_3.10",
   "language": "python",
   "name": "kernal_3.10"
  },
  "language_info": {
   "codemirror_mode": {
    "name": "ipython",
    "version": 3
   },
   "file_extension": ".py",
   "mimetype": "text/x-python",
   "name": "python",
   "nbconvert_exporter": "python",
   "pygments_lexer": "ipython3",
   "version": "3.10.10"
  }
 },
 "nbformat": 4,
 "nbformat_minor": 5
}
